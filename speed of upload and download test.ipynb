{
 "cells": [
  {
   "cell_type": "code",
   "execution_count": 3,
   "id": "79065677",
   "metadata": {},
   "outputs": [],
   "source": []
  },
  {
   "cell_type": "code",
   "execution_count": 2,
   "id": "bd176281",
   "metadata": {},
   "outputs": [
    {
     "name": "stdout",
     "output_type": "stream",
     "text": [
      "speed of upload = 11 \n",
      "speed of download = 20 \n"
     ]
    }
   ],
   "source": [
    "import speedtest   #pip uninstall speedtest-cli\n",
    "test = speedtest.Speedtest()\n",
    "download = test.download()\n",
    "upload = test.upload()\n",
    "upload = upload/1000000\n",
    "download = download/1000000\n",
    "print(\"speed of upload = %d \"%((upload)))\n",
    "print(\"speed of download = %d \"%((download)))"
   ]
  },
  {
   "cell_type": "code",
   "execution_count": null,
   "id": "3f1057b0",
   "metadata": {},
   "outputs": [],
   "source": []
  }
 ],
 "metadata": {
  "kernelspec": {
   "display_name": "Python 3 (ipykernel)",
   "language": "python",
   "name": "python3"
  },
  "language_info": {
   "codemirror_mode": {
    "name": "ipython",
    "version": 3
   },
   "file_extension": ".py",
   "mimetype": "text/x-python",
   "name": "python",
   "nbconvert_exporter": "python",
   "pygments_lexer": "ipython3",
   "version": "3.9.12"
  }
 },
 "nbformat": 4,
 "nbformat_minor": 5
}
